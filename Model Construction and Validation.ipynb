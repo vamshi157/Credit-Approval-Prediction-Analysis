{
 "cells": [
  {
   "cell_type": "markdown",
   "id": "e8590a9a",
   "metadata": {
    "papermill": {
     "duration": 0.016595,
     "end_time": "2022-10-05T15:57:58.606760",
     "exception": false,
     "start_time": "2022-10-05T15:57:58.590165",
     "status": "completed"
    },
    "tags": []
   },
   "source": [
    "## **Data Partition**\n",
    "\n",
    "The dataset is divided into two parts, training and testing datasets, of ratio 4:1. The training dataset is used for model construction on the data. The testing data is later to be used for prediction and model performance evaluation."
   ]
  },
  {
   "cell_type": "code",
   "execution_count": 20,
   "id": "9ee11dff",
   "metadata": {
    "execution": {
     "iopub.execute_input": "2022-10-05T15:57:58.654104Z",
     "iopub.status.busy": "2022-10-05T15:57:58.652364Z",
     "iopub.status.idle": "2022-10-05T15:57:58.692601Z",
     "shell.execute_reply": "2022-10-05T15:57:58.690640Z"
    },
    "papermill": {
     "duration": 0.062374,
     "end_time": "2022-10-05T15:57:58.695235",
     "exception": false,
     "start_time": "2022-10-05T15:57:58.632861",
     "status": "completed"
    },
    "tags": []
   },
   "outputs": [],
   "source": [
    "set.seed(5496)\n",
    "ind=createDataPartition(loan$Loan_Status,p=0.8,list=F)\n",
    "training=loan[ind,]\n",
    "testing=loan[-ind,]"
   ]
  },
  {
   "cell_type": "markdown",
   "id": "8e79f9c2",
   "metadata": {
    "papermill": {
     "duration": 0.015536,
     "end_time": "2022-10-05T15:57:58.726135",
     "exception": false,
     "start_time": "2022-10-05T15:57:58.710599",
     "status": "completed"
    },
    "tags": []
   },
   "source": [
    "The structure of the testing data and training data set are"
   ]
  },
  {
   "cell_type": "code",
   "execution_count": 21,
   "id": "7c4d3e6a",
   "metadata": {
    "execution": {
     "iopub.execute_input": "2022-10-05T15:57:58.802753Z",
     "iopub.status.busy": "2022-10-05T15:57:58.800959Z",
     "iopub.status.idle": "2022-10-05T15:57:58.825047Z",
     "shell.execute_reply": "2022-10-05T15:57:58.822395Z"
    },
    "papermill": {
     "duration": 0.08537,
     "end_time": "2022-10-05T15:57:58.827744",
     "exception": false,
     "start_time": "2022-10-05T15:57:58.742374",
     "status": "completed"
    },
    "tags": []
   },
   "outputs": [
    {
     "name": "stdout",
     "output_type": "stream",
     "text": [
      "'data.frame':\t492 obs. of  10 variables:\n",
      " $ Gender        : num  1 1 1 1 1 1 1 1 1 1 ...\n",
      " $ Married       : num  0 1 1 1 1 1 1 1 1 1 ...\n",
      " $ Dependents    : chr  \"0\" \"1\" \"0\" \"0\" ...\n",
      " $ Education     : num  1 1 0 0 1 1 1 1 1 1 ...\n",
      " $ Self_Employed : num  0 0 0 0 0 0 0 0 0 0 ...\n",
      " $ Credit_History: num  1 1 1 1 0 1 1 1 1 1 ...\n",
      " $ Property_Area : Factor w/ 3 levels \"Rural\",\"Semiurban\",..: 3 1 3 3 2 3 2 3 3 3 ...\n",
      " $ Loan_Status   : Factor w/ 2 levels \"N\",\"Y\": 2 1 2 2 1 2 1 2 2 2 ...\n",
      " $ EMI           : num  -1.034 -1.034 -1.099 -1.332 -0.824 ...\n",
      " $ TotalIncome   : num  8.67 8.71 8.51 8.26 8.62 ...\n"
     ]
    }
   ],
   "source": [
    "str(training)"
   ]
  },
  {
   "cell_type": "code",
   "execution_count": 22,
   "id": "888d6e1b",
   "metadata": {
    "execution": {
     "iopub.execute_input": "2022-10-05T15:57:58.862307Z",
     "iopub.status.busy": "2022-10-05T15:57:58.860487Z",
     "iopub.status.idle": "2022-10-05T15:57:58.884392Z",
     "shell.execute_reply": "2022-10-05T15:57:58.882119Z"
    },
    "papermill": {
     "duration": 0.044011,
     "end_time": "2022-10-05T15:57:58.887075",
     "exception": false,
     "start_time": "2022-10-05T15:57:58.843064",
     "status": "completed"
    },
    "tags": []
   },
   "outputs": [
    {
     "name": "stdout",
     "output_type": "stream",
     "text": [
      "'data.frame':\t122 obs. of  10 variables:\n",
      " $ Gender        : num  1 1 1 1 1 1 1 1 0 1 ...\n",
      " $ Married       : num  1 0 1 1 1 1 1 1 0 0 ...\n",
      " $ Dependents    : chr  \"0\" \"0\" \"2\" \"2\" ...\n",
      " $ Education     : num  1 1 1 1 0 1 0 0 1 1 ...\n",
      " $ Self_Employed : num  1 0 1 0 0 0 0 0 0 0 ...\n",
      " $ Credit_History: num  1 1 1 1 1 1 0 1 1 1 ...\n",
      " $ Property_Area : Factor w/ 3 levels \"Rural\",\"Semiurban\",..: 3 3 3 3 1 3 1 3 2 3 ...\n",
      " $ Loan_Status   : Factor w/ 2 levels \"N\",\"Y\": 2 2 2 2 1 2 1 2 2 1 ...\n",
      " $ EMI           : num  -1.696 -0.937 -0.299 -1.954 -0.996 ...\n",
      " $ TotalIncome   : num  8.01 8.7 9.17 7.78 8.49 ...\n"
     ]
    }
   ],
   "source": [
    "str(testing)"
   ]
  },
  {
   "cell_type": "markdown",
   "id": "87219891",
   "metadata": {
    "papermill": {
     "duration": 0.015806,
     "end_time": "2022-10-05T15:57:58.918288",
     "exception": false,
     "start_time": "2022-10-05T15:57:58.902482",
     "status": "completed"
    },
    "tags": []
   },
   "source": [
    "## **Model Construction**\n",
    "\n",
    "First, a **logistic regression model** is constructed by taking all the variables into consideration."
   ]
  },
  {
   "cell_type": "code",
   "execution_count": 23,
   "id": "0eb8c68a",
   "metadata": {
    "execution": {
     "iopub.execute_input": "2022-10-05T15:57:58.953056Z",
     "iopub.status.busy": "2022-10-05T15:57:58.951404Z",
     "iopub.status.idle": "2022-10-05T15:57:58.997795Z",
     "shell.execute_reply": "2022-10-05T15:57:58.995958Z"
    },
    "papermill": {
     "duration": 0.066538,
     "end_time": "2022-10-05T15:57:59.000303",
     "exception": false,
     "start_time": "2022-10-05T15:57:58.933765",
     "status": "completed"
    },
    "tags": []
   },
   "outputs": [
    {
     "data": {
      "text/plain": [
       "\n",
       "Call:\n",
       "glm(formula = Loan_Status ~ ., family = \"binomial\", data = training)\n",
       "\n",
       "Deviance Residuals: \n",
       "    Min       1Q   Median       3Q      Max  \n",
       "-2.1609  -0.4144   0.5537   0.7157   2.3174  \n",
       "\n",
       "Coefficients:\n",
       "                        Estimate Std. Error z value Pr(>|z|)    \n",
       "(Intercept)            -4.840444   2.475478  -1.955   0.0505 .  \n",
       "Gender                  0.054550   0.327580   0.167   0.8677    \n",
       "Married                 0.605783   0.281091   2.155   0.0312 *  \n",
       "Dependents1            -0.555804   0.316878  -1.754   0.0794 .  \n",
       "Dependents2             0.253725   0.379690   0.668   0.5040    \n",
       "Dependents3            -0.005697   0.475764  -0.012   0.9904    \n",
       "Education               0.430510   0.287127   1.499   0.1338    \n",
       "Self_Employed          -0.135047   0.340066  -0.397   0.6913    \n",
       "Credit_History          3.789530   0.459685   8.244   <2e-16 ***\n",
       "Property_AreaSemiurban  0.810823   0.291444   2.782   0.0054 ** \n",
       "Property_AreaUrban      0.171976   0.290282   0.592   0.5536    \n",
       "EMI                    -0.271698   0.245973  -1.105   0.2693    \n",
       "TotalIncome             0.123926   0.271453   0.457   0.6480    \n",
       "---\n",
       "Signif. codes:  0 ‘***’ 0.001 ‘**’ 0.01 ‘*’ 0.05 ‘.’ 0.1 ‘ ’ 1\n",
       "\n",
       "(Dispersion parameter for binomial family taken to be 1)\n",
       "\n",
       "    Null deviance: 611.54  on 491  degrees of freedom\n",
       "Residual deviance: 457.50  on 479  degrees of freedom\n",
       "AIC: 483.5\n",
       "\n",
       "Number of Fisher Scoring iterations: 5\n"
      ]
     },
     "metadata": {},
     "output_type": "display_data"
    }
   ],
   "source": [
    "## Implementing Logistic Regression  Model\n",
    "model1=glm(Loan_Status~.,data=training, family=\"binomial\")\n",
    "summary(model1)"
   ]
  },
  {
   "cell_type": "markdown",
   "id": "18e9b58d",
   "metadata": {
    "papermill": {
     "duration": 0.015997,
     "end_time": "2022-10-05T15:57:59.032011",
     "exception": false,
     "start_time": "2022-10-05T15:57:59.016014",
     "status": "completed"
    },
    "tags": []
   },
   "source": [
    "The above summary exhibits the significance of the variables. Based on the significance level, it is evident that the variables Credit History, Property Area, Marital status and Education are the most significant variables.\n",
    "\n",
    "Different models are constructed on the training data by removing the variables that are not significant using the **Backward Elimination Technique**."
   ]
  },
  {
   "cell_type": "code",
   "execution_count": 24,
   "id": "a53d9ff3",
   "metadata": {
    "execution": {
     "iopub.execute_input": "2022-10-05T15:57:59.067217Z",
     "iopub.status.busy": "2022-10-05T15:57:59.065492Z",
     "iopub.status.idle": "2022-10-05T15:57:59.091081Z",
     "shell.execute_reply": "2022-10-05T15:57:59.089306Z"
    },
    "papermill": {
     "duration": 0.045867,
     "end_time": "2022-10-05T15:57:59.093525",
     "exception": false,
     "start_time": "2022-10-05T15:57:59.047658",
     "status": "completed"
    },
    "tags": []
   },
   "outputs": [
    {
     "data": {
      "text/plain": [
       "\n",
       "Call:\n",
       "glm(formula = Loan_Status ~ Credit_History + Property_Area + \n",
       "    Married + Education + Dependents, family = \"binomial\", data = training)\n",
       "\n",
       "Deviance Residuals: \n",
       "    Min       1Q   Median       3Q      Max  \n",
       "-2.2214  -0.4093   0.5634   0.6998   2.3272  \n",
       "\n",
       "Coefficients:\n",
       "                       Estimate Std. Error z value Pr(>|z|)    \n",
       "(Intercept)            -3.45182    0.55505  -6.219 5.01e-10 ***\n",
       "Credit_History          3.78110    0.45827   8.251  < 2e-16 ***\n",
       "Property_AreaSemiurban  0.80384    0.28990   2.773  0.00556 ** \n",
       "Property_AreaUrban      0.18554    0.28836   0.643  0.51995    \n",
       "Married                 0.60555    0.26249   2.307  0.02106 *  \n",
       "Education               0.42039    0.27630   1.521  0.12814    \n",
       "Dependents1            -0.59659    0.31368  -1.902  0.05718 .  \n",
       "Dependents2             0.21954    0.37799   0.581  0.56136    \n",
       "Dependents3            -0.07299    0.46888  -0.156  0.87630    \n",
       "---\n",
       "Signif. codes:  0 ‘***’ 0.001 ‘**’ 0.01 ‘*’ 0.05 ‘.’ 0.1 ‘ ’ 1\n",
       "\n",
       "(Dispersion parameter for binomial family taken to be 1)\n",
       "\n",
       "    Null deviance: 611.54  on 491  degrees of freedom\n",
       "Residual deviance: 458.93  on 483  degrees of freedom\n",
       "AIC: 476.93\n",
       "\n",
       "Number of Fisher Scoring iterations: 5\n"
      ]
     },
     "metadata": {},
     "output_type": "display_data"
    }
   ],
   "source": [
    "model2=glm(Loan_Status~Credit_History+Property_Area+Married+Education+Dependents,data=training, family=\"binomial\")\n",
    "summary(model2)"
   ]
  },
  {
   "cell_type": "code",
   "execution_count": 25,
   "id": "b7063975",
   "metadata": {
    "execution": {
     "iopub.execute_input": "2022-10-05T15:57:59.129430Z",
     "iopub.status.busy": "2022-10-05T15:57:59.127778Z",
     "iopub.status.idle": "2022-10-05T15:57:59.155109Z",
     "shell.execute_reply": "2022-10-05T15:57:59.152883Z"
    },
    "papermill": {
     "duration": 0.048266,
     "end_time": "2022-10-05T15:57:59.157650",
     "exception": false,
     "start_time": "2022-10-05T15:57:59.109384",
     "status": "completed"
    },
    "tags": []
   },
   "outputs": [
    {
     "data": {
      "text/plain": [
       "\n",
       "Call:\n",
       "glm(formula = Loan_Status ~ Credit_History + Property_Area + \n",
       "    Married + Dependents, family = \"binomial\", data = training)\n",
       "\n",
       "Deviance Residuals: \n",
       "    Min       1Q   Median       3Q      Max  \n",
       "-2.1741  -0.4304   0.5897   0.7068   2.2767  \n",
       "\n",
       "Coefficients:\n",
       "                       Estimate Std. Error z value Pr(>|z|)    \n",
       "(Intercept)             -3.1340     0.5101  -6.144 8.04e-10 ***\n",
       "Credit_History           3.7737     0.4569   8.259  < 2e-16 ***\n",
       "Property_AreaSemiurban   0.8231     0.2895   2.843  0.00447 ** \n",
       "Property_AreaUrban       0.2199     0.2863   0.768  0.44246    \n",
       "Married                  0.6200     0.2610   2.376  0.01751 *  \n",
       "Dependents1             -0.6102     0.3121  -1.955  0.05055 .  \n",
       "Dependents2              0.1817     0.3765   0.482  0.62948    \n",
       "Dependents3             -0.1241     0.4674  -0.266  0.79061    \n",
       "---\n",
       "Signif. codes:  0 ‘***’ 0.001 ‘**’ 0.01 ‘*’ 0.05 ‘.’ 0.1 ‘ ’ 1\n",
       "\n",
       "(Dispersion parameter for binomial family taken to be 1)\n",
       "\n",
       "    Null deviance: 611.54  on 491  degrees of freedom\n",
       "Residual deviance: 461.20  on 484  degrees of freedom\n",
       "AIC: 477.2\n",
       "\n",
       "Number of Fisher Scoring iterations: 5\n"
      ]
     },
     "metadata": {},
     "output_type": "display_data"
    }
   ],
   "source": [
    "model3=glm(Loan_Status~Credit_History+Property_Area+Married+Dependents,data=training, family=\"binomial\")\n",
    "summary(model3)"
   ]
  },
  {
   "cell_type": "code",
   "execution_count": 26,
   "id": "53e1c2cd",
   "metadata": {
    "execution": {
     "iopub.execute_input": "2022-10-05T15:57:59.193224Z",
     "iopub.status.busy": "2022-10-05T15:57:59.191488Z",
     "iopub.status.idle": "2022-10-05T15:57:59.217888Z",
     "shell.execute_reply": "2022-10-05T15:57:59.216110Z"
    },
    "papermill": {
     "duration": 0.047074,
     "end_time": "2022-10-05T15:57:59.220463",
     "exception": false,
     "start_time": "2022-10-05T15:57:59.173389",
     "status": "completed"
    },
    "tags": []
   },
   "outputs": [
    {
     "data": {
      "text/plain": [
       "\n",
       "Call:\n",
       "glm(formula = Loan_Status ~ Credit_History + Property_Area + \n",
       "    Married + Education, family = \"binomial\", data = training)\n",
       "\n",
       "Deviance Residuals: \n",
       "    Min       1Q   Median       3Q      Max  \n",
       "-2.0865  -0.4096   0.5949   0.6925   2.2449  \n",
       "\n",
       "Coefficients:\n",
       "                       Estimate Std. Error z value Pr(>|z|)    \n",
       "(Intercept)             -3.4500     0.5435  -6.348 2.18e-10 ***\n",
       "Credit_History           3.7417     0.4519   8.280  < 2e-16 ***\n",
       "Property_AreaSemiurban   0.7506     0.2864   2.621  0.00877 ** \n",
       "Property_AreaUrban       0.1217     0.2841   0.428  0.66841    \n",
       "Married                  0.5999     0.2375   2.526  0.01154 *  \n",
       "Education                0.4142     0.2730   1.517  0.12928    \n",
       "---\n",
       "Signif. codes:  0 ‘***’ 0.001 ‘**’ 0.01 ‘*’ 0.05 ‘.’ 0.1 ‘ ’ 1\n",
       "\n",
       "(Dispersion parameter for binomial family taken to be 1)\n",
       "\n",
       "    Null deviance: 611.54  on 491  degrees of freedom\n",
       "Residual deviance: 463.76  on 486  degrees of freedom\n",
       "AIC: 475.76\n",
       "\n",
       "Number of Fisher Scoring iterations: 5\n"
      ]
     },
     "metadata": {},
     "output_type": "display_data"
    }
   ],
   "source": [
    "model4=glm(Loan_Status~Credit_History+Property_Area+Married+Education,data=training, family=\"binomial\")\n",
    "summary(model4)"
   ]
  },
  {
   "cell_type": "code",
   "execution_count": 27,
   "id": "d4a1e4b7",
   "metadata": {
    "execution": {
     "iopub.execute_input": "2022-10-05T15:57:59.257748Z",
     "iopub.status.busy": "2022-10-05T15:57:59.256091Z",
     "iopub.status.idle": "2022-10-05T15:57:59.282951Z",
     "shell.execute_reply": "2022-10-05T15:57:59.281161Z"
    },
    "papermill": {
     "duration": 0.048226,
     "end_time": "2022-10-05T15:57:59.285497",
     "exception": false,
     "start_time": "2022-10-05T15:57:59.237271",
     "status": "completed"
    },
    "tags": []
   },
   "outputs": [
    {
     "data": {
      "text/plain": [
       "\n",
       "Call:\n",
       "glm(formula = Loan_Status ~ Credit_History + Property_Area + \n",
       "    Married, family = \"binomial\", data = training)\n",
       "\n",
       "Deviance Residuals: \n",
       "    Min       1Q   Median       3Q      Max  \n",
       "-2.0466  -0.4189   0.5127   0.7278   2.2902  \n",
       "\n",
       "Coefficients:\n",
       "                       Estimate Std. Error z value Pr(>|z|)    \n",
       "(Intercept)             -3.1464     0.5020  -6.267 3.68e-10 ***\n",
       "Credit_History           3.7404     0.4513   8.288  < 2e-16 ***\n",
       "Property_AreaSemiurban   0.7694     0.2857   2.693  0.00708 ** \n",
       "Property_AreaUrban       0.1579     0.2821   0.560  0.57562    \n",
       "Married                  0.5994     0.2371   2.528  0.01146 *  \n",
       "---\n",
       "Signif. codes:  0 ‘***’ 0.001 ‘**’ 0.01 ‘*’ 0.05 ‘.’ 0.1 ‘ ’ 1\n",
       "\n",
       "(Dispersion parameter for binomial family taken to be 1)\n",
       "\n",
       "    Null deviance: 611.54  on 491  degrees of freedom\n",
       "Residual deviance: 466.00  on 487  degrees of freedom\n",
       "AIC: 476\n",
       "\n",
       "Number of Fisher Scoring iterations: 5\n"
      ]
     },
     "metadata": {},
     "output_type": "display_data"
    }
   ],
   "source": [
    "model5=glm(Loan_Status~Credit_History+Property_Area+Married,data=training, family=\"binomial\")\n",
    "summary(model5)"
   ]
  },
  {
   "cell_type": "code",
   "execution_count": 28,
   "id": "214c1700",
   "metadata": {
    "execution": {
     "iopub.execute_input": "2022-10-05T15:57:59.321873Z",
     "iopub.status.busy": "2022-10-05T15:57:59.320272Z",
     "iopub.status.idle": "2022-10-05T15:57:59.347820Z",
     "shell.execute_reply": "2022-10-05T15:57:59.345937Z"
    },
    "papermill": {
     "duration": 0.048612,
     "end_time": "2022-10-05T15:57:59.350380",
     "exception": false,
     "start_time": "2022-10-05T15:57:59.301768",
     "status": "completed"
    },
    "tags": []
   },
   "outputs": [
    {
     "data": {
      "text/plain": [
       "\n",
       "Call:\n",
       "glm(formula = Loan_Status ~ Credit_History + Property_Area, family = \"binomial\", \n",
       "    data = training)\n",
       "\n",
       "Deviance Residuals: \n",
       "    Min       1Q   Median       3Q      Max  \n",
       "-1.9550  -0.3775   0.5658   0.7518   2.3749  \n",
       "\n",
       "Coefficients:\n",
       "                       Estimate Std. Error z value Pr(>|z|)    \n",
       "(Intercept)             -2.7587     0.4727  -5.836 5.33e-09 ***\n",
       "Credit_History           3.7244     0.4493   8.289  < 2e-16 ***\n",
       "Property_AreaSemiurban   0.7853     0.2840   2.765   0.0057 ** \n",
       "Property_AreaUrban       0.1533     0.2800   0.548   0.5840    \n",
       "---\n",
       "Signif. codes:  0 ‘***’ 0.001 ‘**’ 0.01 ‘*’ 0.05 ‘.’ 0.1 ‘ ’ 1\n",
       "\n",
       "(Dispersion parameter for binomial family taken to be 1)\n",
       "\n",
       "    Null deviance: 611.54  on 491  degrees of freedom\n",
       "Residual deviance: 472.34  on 488  degrees of freedom\n",
       "AIC: 480.34\n",
       "\n",
       "Number of Fisher Scoring iterations: 5\n"
      ]
     },
     "metadata": {},
     "output_type": "display_data"
    }
   ],
   "source": [
    "model6=glm(Loan_Status~Credit_History+Property_Area,data=training, family=\"binomial\")\n",
    "summary(model6)"
   ]
  },
  {
   "cell_type": "markdown",
   "id": "85ab33b1",
   "metadata": {
    "papermill": {
     "duration": 0.016287,
     "end_time": "2022-10-05T15:57:59.382956",
     "exception": false,
     "start_time": "2022-10-05T15:57:59.366669",
     "status": "completed"
    },
    "tags": []
   },
   "source": [
    "Nested models are created above from the full model with all the variables and then their Akaike’s Information Criterion (AIC) values are compared. The model with the lower AIC value among the nested model is considered a better model."
   ]
  },
  {
   "cell_type": "code",
   "execution_count": 29,
   "id": "1de360ea",
   "metadata": {
    "execution": {
     "iopub.execute_input": "2022-10-05T15:57:59.418969Z",
     "iopub.status.busy": "2022-10-05T15:57:59.417475Z",
     "iopub.status.idle": "2022-10-05T15:57:59.475890Z",
     "shell.execute_reply": "2022-10-05T15:57:59.473591Z"
    },
    "papermill": {
     "duration": 0.079221,
     "end_time": "2022-10-05T15:57:59.478537",
     "exception": false,
     "start_time": "2022-10-05T15:57:59.399316",
     "status": "completed"
    },
    "tags": []
   },
   "outputs": [
    {
     "data": {
      "text/html": [
       "483.501758934"
      ],
      "text/latex": [
       "483.501758934"
      ],
      "text/markdown": [
       "483.501758934"
      ],
      "text/plain": [
       "[1] 483.5018"
      ]
     },
     "metadata": {},
     "output_type": "display_data"
    },
    {
     "data": {
      "text/html": [
       "476.934481057758"
      ],
      "text/latex": [
       "476.934481057758"
      ],
      "text/markdown": [
       "476.934481057758"
      ],
      "text/plain": [
       "[1] 476.9345"
      ]
     },
     "metadata": {},
     "output_type": "display_data"
    },
    {
     "data": {
      "text/html": [
       "477.198580102434"
      ],
      "text/latex": [
       "477.198580102434"
      ],
      "text/markdown": [
       "477.198580102434"
      ],
      "text/plain": [
       "[1] 477.1986"
      ]
     },
     "metadata": {},
     "output_type": "display_data"
    },
    {
     "data": {
      "text/html": [
       "475.756514767961"
      ],
      "text/latex": [
       "475.756514767961"
      ],
      "text/markdown": [
       "475.756514767961"
      ],
      "text/plain": [
       "[1] 475.7565"
      ]
     },
     "metadata": {},
     "output_type": "display_data"
    },
    {
     "data": {
      "text/html": [
       "476.0026773339"
      ],
      "text/latex": [
       "476.0026773339"
      ],
      "text/markdown": [
       "476.0026773339"
      ],
      "text/plain": [
       "[1] 476.0027"
      ]
     },
     "metadata": {},
     "output_type": "display_data"
    },
    {
     "data": {
      "text/html": [
       "480.337457415428"
      ],
      "text/latex": [
       "480.337457415428"
      ],
      "text/markdown": [
       "480.337457415428"
      ],
      "text/plain": [
       "[1] 480.3375"
      ]
     },
     "metadata": {},
     "output_type": "display_data"
    }
   ],
   "source": [
    "AIC(model1)\n",
    "AIC(model2)\n",
    "AIC(model3)\n",
    "AIC(model4)\n",
    "AIC(model5)\n",
    "AIC(model6)"
   ]
  },
  {
   "cell_type": "markdown",
   "id": "31b8a1d4",
   "metadata": {
    "papermill": {
     "duration": 0.017957,
     "end_time": "2022-10-05T15:57:59.514363",
     "exception": false,
     "start_time": "2022-10-05T15:57:59.496406",
     "status": "completed"
    },
    "tags": []
   },
   "source": [
    "Comparing the AIC values of the models it is clear that the models 4 and 5 has lesser AIC values compared to other models."
   ]
  },
  {
   "cell_type": "markdown",
   "id": "ec32da31",
   "metadata": {
    "papermill": {
     "duration": 0.017364,
     "end_time": "2022-10-05T15:57:59.548672",
     "exception": false,
     "start_time": "2022-10-05T15:57:59.531308",
     "status": "completed"
    },
    "tags": []
   },
   "source": [
    "### Likelihood Ratio tests on models"
   ]
  },
  {
   "cell_type": "markdown",
   "id": "8c4f9367",
   "metadata": {
    "papermill": {
     "duration": 0.017275,
     "end_time": "2022-10-05T15:57:59.582987",
     "exception": false,
     "start_time": "2022-10-05T15:57:59.565712",
     "status": "completed"
    },
    "tags": []
   },
   "source": [
    "Likelihood ratio tests are conducted to verify the nested models’ significance and determine the model with the best fit.\n",
    "\n",
    "The null hypothesis of the test is taken as, Null Hypothesis: Nested model is better\n",
    "\n",
    "If the p-value is less than significance level we reject the null hypothesis"
   ]
  },
  {
   "cell_type": "code",
   "execution_count": 30,
   "id": "d46c9c11",
   "metadata": {
    "execution": {
     "iopub.execute_input": "2022-10-05T15:57:59.621048Z",
     "iopub.status.busy": "2022-10-05T15:57:59.619318Z",
     "iopub.status.idle": "2022-10-05T15:57:59.668195Z",
     "shell.execute_reply": "2022-10-05T15:57:59.666406Z"
    },
    "papermill": {
     "duration": 0.070789,
     "end_time": "2022-10-05T15:57:59.670607",
     "exception": false,
     "start_time": "2022-10-05T15:57:59.599818",
     "status": "completed"
    },
    "tags": []
   },
   "outputs": [
    {
     "data": {
      "text/html": [
       "<table class=\"dataframe\">\n",
       "<caption>A anova: 2 × 5</caption>\n",
       "<thead>\n",
       "\t<tr><th></th><th scope=col>#Df</th><th scope=col>LogLik</th><th scope=col>Df</th><th scope=col>Chisq</th><th scope=col>Pr(&gt;Chisq)</th></tr>\n",
       "\t<tr><th></th><th scope=col>&lt;dbl&gt;</th><th scope=col>&lt;dbl&gt;</th><th scope=col>&lt;dbl&gt;</th><th scope=col>&lt;dbl&gt;</th><th scope=col>&lt;dbl&gt;</th></tr>\n",
       "</thead>\n",
       "<tbody>\n",
       "\t<tr><th scope=row>1</th><td>8</td><td>-230.5993</td><td>NA</td><td>      NA</td><td>       NA</td></tr>\n",
       "\t<tr><th scope=row>2</th><td>6</td><td>-231.8783</td><td>-2</td><td>2.557935</td><td>0.2783246</td></tr>\n",
       "</tbody>\n",
       "</table>\n"
      ],
      "text/latex": [
       "A anova: 2 × 5\n",
       "\\begin{tabular}{r|lllll}\n",
       "  & \\#Df & LogLik & Df & Chisq & Pr(>Chisq)\\\\\n",
       "  & <dbl> & <dbl> & <dbl> & <dbl> & <dbl>\\\\\n",
       "\\hline\n",
       "\t1 & 8 & -230.5993 & NA &       NA &        NA\\\\\n",
       "\t2 & 6 & -231.8783 & -2 & 2.557935 & 0.2783246\\\\\n",
       "\\end{tabular}\n"
      ],
      "text/markdown": [
       "\n",
       "A anova: 2 × 5\n",
       "\n",
       "| <!--/--> | #Df &lt;dbl&gt; | LogLik &lt;dbl&gt; | Df &lt;dbl&gt; | Chisq &lt;dbl&gt; | Pr(&gt;Chisq) &lt;dbl&gt; |\n",
       "|---|---|---|---|---|---|\n",
       "| 1 | 8 | -230.5993 | NA |       NA |        NA |\n",
       "| 2 | 6 | -231.8783 | -2 | 2.557935 | 0.2783246 |\n",
       "\n"
      ],
      "text/plain": [
       "  #Df LogLik    Df Chisq    Pr(>Chisq)\n",
       "1 8   -230.5993 NA       NA        NA \n",
       "2 6   -231.8783 -2 2.557935 0.2783246 "
      ]
     },
     "metadata": {},
     "output_type": "display_data"
    },
    {
     "data": {
      "text/html": [
       "<table class=\"dataframe\">\n",
       "<caption>A anova: 2 × 5</caption>\n",
       "<thead>\n",
       "\t<tr><th></th><th scope=col>#Df</th><th scope=col>LogLik</th><th scope=col>Df</th><th scope=col>Chisq</th><th scope=col>Pr(&gt;Chisq)</th></tr>\n",
       "\t<tr><th></th><th scope=col>&lt;dbl&gt;</th><th scope=col>&lt;dbl&gt;</th><th scope=col>&lt;dbl&gt;</th><th scope=col>&lt;dbl&gt;</th><th scope=col>&lt;dbl&gt;</th></tr>\n",
       "</thead>\n",
       "<tbody>\n",
       "\t<tr><th scope=row>1</th><td>6</td><td>-231.8783</td><td>NA</td><td>      NA</td><td>       NA</td></tr>\n",
       "\t<tr><th scope=row>2</th><td>5</td><td>-233.0013</td><td>-1</td><td>2.246163</td><td>0.1339462</td></tr>\n",
       "</tbody>\n",
       "</table>\n"
      ],
      "text/latex": [
       "A anova: 2 × 5\n",
       "\\begin{tabular}{r|lllll}\n",
       "  & \\#Df & LogLik & Df & Chisq & Pr(>Chisq)\\\\\n",
       "  & <dbl> & <dbl> & <dbl> & <dbl> & <dbl>\\\\\n",
       "\\hline\n",
       "\t1 & 6 & -231.8783 & NA &       NA &        NA\\\\\n",
       "\t2 & 5 & -233.0013 & -1 & 2.246163 & 0.1339462\\\\\n",
       "\\end{tabular}\n"
      ],
      "text/markdown": [
       "\n",
       "A anova: 2 × 5\n",
       "\n",
       "| <!--/--> | #Df &lt;dbl&gt; | LogLik &lt;dbl&gt; | Df &lt;dbl&gt; | Chisq &lt;dbl&gt; | Pr(&gt;Chisq) &lt;dbl&gt; |\n",
       "|---|---|---|---|---|---|\n",
       "| 1 | 6 | -231.8783 | NA |       NA |        NA |\n",
       "| 2 | 5 | -233.0013 | -1 | 2.246163 | 0.1339462 |\n",
       "\n"
      ],
      "text/plain": [
       "  #Df LogLik    Df Chisq    Pr(>Chisq)\n",
       "1 6   -231.8783 NA       NA        NA \n",
       "2 5   -233.0013 -1 2.246163 0.1339462 "
      ]
     },
     "metadata": {},
     "output_type": "display_data"
    },
    {
     "data": {
      "text/html": [
       "<table class=\"dataframe\">\n",
       "<caption>A anova: 2 × 5</caption>\n",
       "<thead>\n",
       "\t<tr><th></th><th scope=col>#Df</th><th scope=col>LogLik</th><th scope=col>Df</th><th scope=col>Chisq</th><th scope=col>Pr(&gt;Chisq)</th></tr>\n",
       "\t<tr><th></th><th scope=col>&lt;dbl&gt;</th><th scope=col>&lt;dbl&gt;</th><th scope=col>&lt;dbl&gt;</th><th scope=col>&lt;dbl&gt;</th><th scope=col>&lt;dbl&gt;</th></tr>\n",
       "</thead>\n",
       "<tbody>\n",
       "\t<tr><th scope=row>1</th><td>5</td><td>-233.0013</td><td>NA</td><td>     NA</td><td>        NA</td></tr>\n",
       "\t<tr><th scope=row>2</th><td>4</td><td>-236.1687</td><td>-1</td><td>6.33478</td><td>0.01183928</td></tr>\n",
       "</tbody>\n",
       "</table>\n"
      ],
      "text/latex": [
       "A anova: 2 × 5\n",
       "\\begin{tabular}{r|lllll}\n",
       "  & \\#Df & LogLik & Df & Chisq & Pr(>Chisq)\\\\\n",
       "  & <dbl> & <dbl> & <dbl> & <dbl> & <dbl>\\\\\n",
       "\\hline\n",
       "\t1 & 5 & -233.0013 & NA &      NA &         NA\\\\\n",
       "\t2 & 4 & -236.1687 & -1 & 6.33478 & 0.01183928\\\\\n",
       "\\end{tabular}\n"
      ],
      "text/markdown": [
       "\n",
       "A anova: 2 × 5\n",
       "\n",
       "| <!--/--> | #Df &lt;dbl&gt; | LogLik &lt;dbl&gt; | Df &lt;dbl&gt; | Chisq &lt;dbl&gt; | Pr(&gt;Chisq) &lt;dbl&gt; |\n",
       "|---|---|---|---|---|---|\n",
       "| 1 | 5 | -233.0013 | NA |      NA |         NA |\n",
       "| 2 | 4 | -236.1687 | -1 | 6.33478 | 0.01183928 |\n",
       "\n"
      ],
      "text/plain": [
       "  #Df LogLik    Df Chisq   Pr(>Chisq)\n",
       "1 5   -233.0013 NA      NA         NA\n",
       "2 4   -236.1687 -1 6.33478 0.01183928"
      ]
     },
     "metadata": {},
     "output_type": "display_data"
    }
   ],
   "source": [
    "lrtest(model3,model4)\n",
    "lrtest(model4,model5)\n",
    "lrtest(model5,model6)"
   ]
  },
  {
   "cell_type": "markdown",
   "id": "52b593b9",
   "metadata": {
    "papermill": {
     "duration": 0.017869,
     "end_time": "2022-10-05T15:57:59.706108",
     "exception": false,
     "start_time": "2022-10-05T15:57:59.688239",
     "status": "completed"
    },
    "tags": []
   },
   "source": [
    "From the likelihood ratio tests conducted and the AIC values obtained before, we can say that model5 is the better fit for the model construction.\n",
    "\n",
    "So, the final variables of significance are Credit History, Property Area and Marital status, since this model exhibits the least AIC value and has the goodness of fit among the nested models created."
   ]
  },
  {
   "cell_type": "markdown",
   "id": "fd2c46c0",
   "metadata": {
    "papermill": {
     "duration": 0.01825,
     "end_time": "2022-10-05T15:57:59.741926",
     "exception": false,
     "start_time": "2022-10-05T15:57:59.723676",
     "status": "completed"
    },
    "tags": []
   },
   "source": [
    "## **Evaluating Model Performance**\n",
    "Now the predictions of credit risk are made on the testing data using the best fitted logistic model. The threshold value is set at 0.5 and the prediction values of the target variable are obtained as factors “Y” and “N”. Then a Confusion Matrix is obtained for comparing the predicted values to the actual values of the testing dataset."
   ]
  },
  {
   "cell_type": "code",
   "execution_count": 31,
   "id": "6f2d4383",
   "metadata": {
    "execution": {
     "iopub.execute_input": "2022-10-05T15:57:59.781039Z",
     "iopub.status.busy": "2022-10-05T15:57:59.779406Z",
     "iopub.status.idle": "2022-10-05T15:57:59.809448Z",
     "shell.execute_reply": "2022-10-05T15:57:59.807512Z"
    },
    "papermill": {
     "duration": 0.052549,
     "end_time": "2022-10-05T15:57:59.812046",
     "exception": false,
     "start_time": "2022-10-05T15:57:59.759497",
     "status": "completed"
    },
    "tags": []
   },
   "outputs": [
    {
     "data": {
      "text/html": [
       "<table class=\"dataframe\">\n",
       "<caption>A matrix: 2 × 1 of type dbl</caption>\n",
       "<thead>\n",
       "\t<tr><th></th><th scope=col>Y</th></tr>\n",
       "</thead>\n",
       "<tbody>\n",
       "\t<tr><th scope=row>N</th><td>0</td></tr>\n",
       "\t<tr><th scope=row>Y</th><td>1</td></tr>\n",
       "</tbody>\n",
       "</table>\n"
      ],
      "text/latex": [
       "A matrix: 2 × 1 of type dbl\n",
       "\\begin{tabular}{r|l}\n",
       "  & Y\\\\\n",
       "\\hline\n",
       "\tN & 0\\\\\n",
       "\tY & 1\\\\\n",
       "\\end{tabular}\n"
      ],
      "text/markdown": [
       "\n",
       "A matrix: 2 × 1 of type dbl\n",
       "\n",
       "| <!--/--> | Y |\n",
       "|---|---|\n",
       "| N | 0 |\n",
       "| Y | 1 |\n",
       "\n"
      ],
      "text/plain": [
       "  Y\n",
       "N 0\n",
       "Y 1"
      ]
     },
     "metadata": {},
     "output_type": "display_data"
    }
   ],
   "source": [
    "res=predict(model5,testing,type=\"response\")\n",
    "contrasts(testing$Loan_Status)\n",
    "predictedvalues=ifelse(res>0.5,'Y','N')\n",
    "predictedvalues=as.factor(predictedvalues)"
   ]
  },
  {
   "cell_type": "code",
   "execution_count": 32,
   "id": "4342c6da",
   "metadata": {
    "execution": {
     "iopub.execute_input": "2022-10-05T15:57:59.851779Z",
     "iopub.status.busy": "2022-10-05T15:57:59.850001Z",
     "iopub.status.idle": "2022-10-05T15:57:59.919787Z",
     "shell.execute_reply": "2022-10-05T15:57:59.917914Z"
    },
    "papermill": {
     "duration": 0.092029,
     "end_time": "2022-10-05T15:57:59.922011",
     "exception": false,
     "start_time": "2022-10-05T15:57:59.829982",
     "status": "completed"
    },
    "tags": []
   },
   "outputs": [
    {
     "data": {
      "text/plain": [
       "Confusion Matrix and Statistics\n",
       "\n",
       "          Reference\n",
       "Prediction  N  Y\n",
       "         N 19  1\n",
       "         Y 19 83\n",
       "                                          \n",
       "               Accuracy : 0.8361          \n",
       "                 95% CI : (0.7582, 0.8969)\n",
       "    No Information Rate : 0.6885          \n",
       "    P-Value [Acc > NIR] : 0.0001559       \n",
       "                                          \n",
       "                  Kappa : 0.5608          \n",
       "                                          \n",
       " Mcnemar's Test P-Value : 0.0001439       \n",
       "                                          \n",
       "            Sensitivity : 0.9881          \n",
       "            Specificity : 0.5000          \n",
       "         Pos Pred Value : 0.8137          \n",
       "         Neg Pred Value : 0.9500          \n",
       "             Prevalence : 0.6885          \n",
       "         Detection Rate : 0.6803          \n",
       "   Detection Prevalence : 0.8361          \n",
       "      Balanced Accuracy : 0.7440          \n",
       "                                          \n",
       "       'Positive' Class : Y               \n",
       "                                          "
      ]
     },
     "metadata": {},
     "output_type": "display_data"
    }
   ],
   "source": [
    "confusionMatrix(predictedvalues,testing$Loan_Status,positive = 'Y')"
   ]
  },
  {
   "cell_type": "markdown",
   "id": "47c3d120",
   "metadata": {
    "papermill": {
     "duration": 0.01829,
     "end_time": "2022-10-05T15:57:59.958111",
     "exception": false,
     "start_time": "2022-10-05T15:57:59.939821",
     "status": "completed"
    },
    "tags": []
   },
   "source": [
    "## **Conclusion**\n",
    "The accuracy of the prediction through the constructed model on the testing data is found to be **83.6%**.\n",
    "\n",
    "* The observation inferred through this analysis is that the variable Credit History affects the chance of approval of the loan by a huge difference.\n",
    "* The applicants with the Property Area as Sub-urban has more credibility among the applicants for loan.\n",
    "* Those applicants who are married are more likely to get their loan approved."
   ]
  }
 ],
 "metadata": {
  "kernelspec": {
   "display_name": "Python 3 (ipykernel)",
   "language": "python",
   "name": "python3"
  },
  "language_info": {
   "codemirror_mode": {
    "name": "ipython",
    "version": 3
   },
   "file_extension": ".py",
   "mimetype": "text/x-python",
   "name": "python",
   "nbconvert_exporter": "python",
   "pygments_lexer": "ipython3",
   "version": "3.9.12"
  },
  "papermill": {
   "default_parameters": {},
   "duration": 12.593128,
   "end_time": "2022-10-05T15:58:00.097944",
   "environment_variables": {},
   "exception": null,
   "input_path": "__notebook__.ipynb",
   "output_path": "__notebook__.ipynb",
   "parameters": {},
   "start_time": "2022-10-05T15:57:47.504816",
   "version": "2.3.4"
  }
 },
 "nbformat": 4,
 "nbformat_minor": 5
}
